{
 "cells": [
  {
   "cell_type": "markdown",
   "metadata": {},
   "source": [
    "# Module 6 - Clustering for Diverse portfolio analysis"
   ]
  },
  {
   "cell_type": "markdown",
   "metadata": {},
   "source": [
    "   ### Welcome to the Answer notebook for Module 6 ! \n",
    "Make sure that you've submitted the module 5 notebook and unlocked Module 6 yourself before you start coding here\n"
   ]
  },
  {
   "cell_type": "markdown",
   "metadata": {},
   "source": [
    "#--------------------------------------------------------------------------------------------------------------------------------------------------------------------------------------------------------#"
   ]
  },
  {
   "cell_type": "markdown",
   "metadata": {},
   "source": [
    "### Query 6.1 \n",
    "Create a table/dataframe with the closing prices of 30 different stocks, with 10 from each of the caps"
   ]
  },
  {
   "cell_type": "code",
   "execution_count": 48,
   "metadata": {},
   "outputs": [],
   "source": [
    "import glob\n",
    "import pandas as pd\n",
    "from math import sqrt\n",
    "import numpy as np\n",
    "import seaborn as sns\n",
    "from sklearn.cluster import KMeans\n",
    "from matplotlib import pyplot as plt"
   ]
  },
  {
   "cell_type": "code",
   "execution_count": 49,
   "metadata": {},
   "outputs": [
    {
     "name": "stdout",
     "output_type": "stream",
     "text": [
      "['HDFCBANK.csv', 'ASIANPAINT.csv', 'EICHERMOT.csv', 'AXISBANK.csv', 'ADANIPORTS.csv', 'BAJFINANCE.csv', 'LEMONTREE.csv', 'CASTROLIND.csv', 'JKLAKSHMI.csv', 'BERGEPAINT.csv', 'GUJALKALI.csv', 'GODREJIND.csv', 'JETAIRWAYS.csv', 'ITDC.csv', 'AMARAJABAT.csv', 'DHFL.csv', 'AJANTPHARM.csv', 'LAXMIMACH.csv', 'CIPLA.csv', 'APOLLOTYRE.csv', 'GAIL.csv', 'EXIDEIND.csv', 'IDFC.csv', 'LUXIND.csv', 'GMRINFRA.csv', 'LALPATHLAB.csv', 'DRREDDY.csv', 'JUBLFOOD.csv', 'IRCON.csv', 'CUMMINSIND.csv']\n"
     ]
    }
   ],
   "source": [
    "print(glob.glob('*.csv'))"
   ]
  },
  {
   "cell_type": "code",
   "execution_count": 50,
   "metadata": {},
   "outputs": [],
   "source": [
    "all_filenames = [i for i in glob.glob('*.csv')]"
   ]
  },
  {
   "cell_type": "code",
   "execution_count": 51,
   "metadata": {},
   "outputs": [
    {
     "data": {
      "text/html": [
       "<div>\n",
       "<style scoped>\n",
       "    .dataframe tbody tr th:only-of-type {\n",
       "        vertical-align: middle;\n",
       "    }\n",
       "\n",
       "    .dataframe tbody tr th {\n",
       "        vertical-align: top;\n",
       "    }\n",
       "\n",
       "    .dataframe thead th {\n",
       "        text-align: right;\n",
       "    }\n",
       "</style>\n",
       "<table border=\"1\" class=\"dataframe\">\n",
       "  <thead>\n",
       "    <tr style=\"text-align: right;\">\n",
       "      <th></th>\n",
       "      <th>HDFCBANK</th>\n",
       "      <th>ASIANPAINT</th>\n",
       "      <th>EICHERMOT</th>\n",
       "      <th>AXISBANK</th>\n",
       "      <th>ADANIPORTS</th>\n",
       "      <th>BAJFINANCE</th>\n",
       "      <th>LEMONTREE</th>\n",
       "      <th>CASTROLIND</th>\n",
       "      <th>JKLAKSHMI</th>\n",
       "      <th>BERGEPAINT</th>\n",
       "      <th>...</th>\n",
       "      <th>GAIL</th>\n",
       "      <th>EXIDEIND</th>\n",
       "      <th>IDFC</th>\n",
       "      <th>LUXIND</th>\n",
       "      <th>GMRINFRA</th>\n",
       "      <th>LALPATHLAB</th>\n",
       "      <th>DRREDDY</th>\n",
       "      <th>JUBLFOOD</th>\n",
       "      <th>IRCON</th>\n",
       "      <th>CUMMINSIND</th>\n",
       "    </tr>\n",
       "  </thead>\n",
       "  <tbody>\n",
       "    <tr>\n",
       "      <th>0</th>\n",
       "      <td>1553.40</td>\n",
       "      <td>1148.05</td>\n",
       "      <td>28930.60</td>\n",
       "      <td>500.1</td>\n",
       "      <td>356.20</td>\n",
       "      <td>1332.95</td>\n",
       "      <td>71.65</td>\n",
       "      <td>449.85</td>\n",
       "      <td>510.80</td>\n",
       "      <td>259.5</td>\n",
       "      <td>...</td>\n",
       "      <td>414.00</td>\n",
       "      <td>245.80</td>\n",
       "      <td>63.70</td>\n",
       "      <td>819.60</td>\n",
       "      <td>17.55</td>\n",
       "      <td>900.60</td>\n",
       "      <td>2675.80</td>\n",
       "      <td>1025.45</td>\n",
       "      <td>415.3</td>\n",
       "      <td>1066.05</td>\n",
       "    </tr>\n",
       "    <tr>\n",
       "      <th>1</th>\n",
       "      <td>1583.00</td>\n",
       "      <td>1142.85</td>\n",
       "      <td>29362.50</td>\n",
       "      <td>501.5</td>\n",
       "      <td>354.50</td>\n",
       "      <td>1347.75</td>\n",
       "      <td>66.85</td>\n",
       "      <td>443.00</td>\n",
       "      <td>527.50</td>\n",
       "      <td>261.5</td>\n",
       "      <td>...</td>\n",
       "      <td>411.40</td>\n",
       "      <td>244.70</td>\n",
       "      <td>64.25</td>\n",
       "      <td>817.50</td>\n",
       "      <td>17.40</td>\n",
       "      <td>910.95</td>\n",
       "      <td>2724.10</td>\n",
       "      <td>1050.65</td>\n",
       "      <td>427.0</td>\n",
       "      <td>1047.75</td>\n",
       "    </tr>\n",
       "    <tr>\n",
       "      <th>2</th>\n",
       "      <td>1559.65</td>\n",
       "      <td>1154.95</td>\n",
       "      <td>29093.55</td>\n",
       "      <td>502.8</td>\n",
       "      <td>348.55</td>\n",
       "      <td>1324.80</td>\n",
       "      <td>66.95</td>\n",
       "      <td>439.55</td>\n",
       "      <td>516.20</td>\n",
       "      <td>260.9</td>\n",
       "      <td>...</td>\n",
       "      <td>408.30</td>\n",
       "      <td>243.20</td>\n",
       "      <td>63.35</td>\n",
       "      <td>819.80</td>\n",
       "      <td>17.30</td>\n",
       "      <td>911.70</td>\n",
       "      <td>2736.90</td>\n",
       "      <td>1049.05</td>\n",
       "      <td>421.4</td>\n",
       "      <td>1016.45</td>\n",
       "    </tr>\n",
       "    <tr>\n",
       "      <th>3</th>\n",
       "      <td>1557.15</td>\n",
       "      <td>1151.35</td>\n",
       "      <td>28357.30</td>\n",
       "      <td>492.0</td>\n",
       "      <td>347.90</td>\n",
       "      <td>1314.55</td>\n",
       "      <td>66.40</td>\n",
       "      <td>433.95</td>\n",
       "      <td>478.95</td>\n",
       "      <td>254.1</td>\n",
       "      <td>...</td>\n",
       "      <td>404.75</td>\n",
       "      <td>239.85</td>\n",
       "      <td>61.50</td>\n",
       "      <td>820.05</td>\n",
       "      <td>16.75</td>\n",
       "      <td>909.75</td>\n",
       "      <td>2678.95</td>\n",
       "      <td>1019.35</td>\n",
       "      <td>407.1</td>\n",
       "      <td>1054.45</td>\n",
       "    </tr>\n",
       "    <tr>\n",
       "      <th>4</th>\n",
       "      <td>1600.00</td>\n",
       "      <td>1123.15</td>\n",
       "      <td>27936.05</td>\n",
       "      <td>501.7</td>\n",
       "      <td>349.45</td>\n",
       "      <td>1289.15</td>\n",
       "      <td>67.70</td>\n",
       "      <td>437.10</td>\n",
       "      <td>469.55</td>\n",
       "      <td>247.8</td>\n",
       "      <td>...</td>\n",
       "      <td>401.05</td>\n",
       "      <td>238.15</td>\n",
       "      <td>61.15</td>\n",
       "      <td>817.80</td>\n",
       "      <td>16.95</td>\n",
       "      <td>910.25</td>\n",
       "      <td>2656.45</td>\n",
       "      <td>1018.10</td>\n",
       "      <td>399.8</td>\n",
       "      <td>972.95</td>\n",
       "    </tr>\n",
       "  </tbody>\n",
       "</table>\n",
       "<p>5 rows × 30 columns</p>\n",
       "</div>"
      ],
      "text/plain": [
       "   HDFCBANK  ASIANPAINT  EICHERMOT  AXISBANK  ADANIPORTS  BAJFINANCE  \\\n",
       "0   1553.40     1148.05   28930.60     500.1      356.20     1332.95   \n",
       "1   1583.00     1142.85   29362.50     501.5      354.50     1347.75   \n",
       "2   1559.65     1154.95   29093.55     502.8      348.55     1324.80   \n",
       "3   1557.15     1151.35   28357.30     492.0      347.90     1314.55   \n",
       "4   1600.00     1123.15   27936.05     501.7      349.45     1289.15   \n",
       "\n",
       "   LEMONTREE  CASTROLIND  JKLAKSHMI  BERGEPAINT     ...        GAIL  EXIDEIND  \\\n",
       "0      71.65      449.85     510.80       259.5     ...      414.00    245.80   \n",
       "1      66.85      443.00     527.50       261.5     ...      411.40    244.70   \n",
       "2      66.95      439.55     516.20       260.9     ...      408.30    243.20   \n",
       "3      66.40      433.95     478.95       254.1     ...      404.75    239.85   \n",
       "4      67.70      437.10     469.55       247.8     ...      401.05    238.15   \n",
       "\n",
       "    IDFC  LUXIND  GMRINFRA  LALPATHLAB  DRREDDY  JUBLFOOD  IRCON  CUMMINSIND  \n",
       "0  63.70  819.60     17.55      900.60  2675.80   1025.45  415.3     1066.05  \n",
       "1  64.25  817.50     17.40      910.95  2724.10   1050.65  427.0     1047.75  \n",
       "2  63.35  819.80     17.30      911.70  2736.90   1049.05  421.4     1016.45  \n",
       "3  61.50  820.05     16.75      909.75  2678.95   1019.35  407.1     1054.45  \n",
       "4  61.15  817.80     16.95      910.25  2656.45   1018.10  399.8      972.95  \n",
       "\n",
       "[5 rows x 30 columns]"
      ]
     },
     "execution_count": 51,
     "metadata": {},
     "output_type": "execute_result"
    }
   ],
   "source": [
    "#combine all files in the list\n",
    "prices_list=[]\n",
    "names_list=[]\n",
    "for f in all_filenames:\n",
    "    new=pd.read_csv(f,parse_dates=True)\n",
    "    prices=new['Close Price']\n",
    "    prices_list.append(prices)\n",
    "    names_list.append((new['Symbol'].unique().item()))\n",
    "    prices_df = pd.concat(prices_list,axis=1,sort=True)\n",
    "prices_df.sort_index(inplace=True)\n",
    "prices_df.set_axis(names_list, axis=1, inplace=True)\n",
    "prices_df.head()"
   ]
  },
  {
   "cell_type": "code",
   "execution_count": 52,
   "metadata": {},
   "outputs": [
    {
     "data": {
      "text/plain": [
       "30"
      ]
     },
     "execution_count": 52,
     "metadata": {},
     "output_type": "execute_result"
    }
   ],
   "source": [
    "len(names_list)"
   ]
  },
  {
   "cell_type": "code",
   "execution_count": 53,
   "metadata": {},
   "outputs": [
    {
     "data": {
      "text/plain": [
       "30"
      ]
     },
     "execution_count": 53,
     "metadata": {},
     "output_type": "execute_result"
    }
   ],
   "source": [
    "len(prices_df.columns)"
   ]
  },
  {
   "cell_type": "code",
   "execution_count": 54,
   "metadata": {},
   "outputs": [
    {
     "data": {
      "text/plain": [
       "['HDFCBANK',\n",
       " 'ASIANPAINT',\n",
       " 'EICHERMOT',\n",
       " 'AXISBANK',\n",
       " 'ADANIPORTS',\n",
       " 'BAJFINANCE',\n",
       " 'LEMONTREE',\n",
       " 'CASTROLIND',\n",
       " 'JKLAKSHMI',\n",
       " 'BERGEPAINT',\n",
       " 'GUJALKALI',\n",
       " 'GODREJIND',\n",
       " 'JETAIRWAYS',\n",
       " 'ITDC',\n",
       " 'AMARAJABAT',\n",
       " 'DHFL',\n",
       " 'AJANTPHARM',\n",
       " 'LAXMIMACH',\n",
       " 'CIPLA',\n",
       " 'APOLLOTYRE',\n",
       " 'GAIL',\n",
       " 'EXIDEIND',\n",
       " 'IDFC',\n",
       " 'LUXIND',\n",
       " 'GMRINFRA',\n",
       " 'LALPATHLAB',\n",
       " 'DRREDDY',\n",
       " 'JUBLFOOD',\n",
       " 'IRCON',\n",
       " 'CUMMINSIND']"
      ]
     },
     "execution_count": 54,
     "metadata": {},
     "output_type": "execute_result"
    }
   ],
   "source": [
    "names_list"
   ]
  },
  {
   "cell_type": "markdown",
   "metadata": {},
   "source": [
    "# QUERY 6.2\n",
    "Calculate average annual percentage return and volatility of all 30 stocks over a theoretical one year period "
   ]
  },
  {
   "cell_type": "code",
   "execution_count": 55,
   "metadata": {},
   "outputs": [],
   "source": [
    "returns = prices_df.pct_change().mean() * 252\n",
    "returns = pd.DataFrame(returns)\n",
    "returns.columns = ['Returns']\n",
    "returns['Volatility'] = prices_df.pct_change().std() * sqrt(252)"
   ]
  },
  {
   "cell_type": "code",
   "execution_count": 56,
   "metadata": {},
   "outputs": [
    {
     "data": {
      "text/plain": [
       "HDFCBANK       0.085710\n",
       "ASIANPAINT     0.067157\n",
       "EICHERMOT      0.096265\n",
       "AXISBANK       0.089182\n",
       "ADANIPORTS     0.099279\n",
       "BAJFINANCE     0.103263\n",
       "LEMONTREE      0.092800\n",
       "CASTROLIND     0.143366\n",
       "JKLAKSHMI      0.089689\n",
       "BERGEPAINT     0.085810\n",
       "GUJALKALI      0.123565\n",
       "GODREJIND      0.085476\n",
       "JETAIRWAYS     0.200471\n",
       "ITDC           0.169290\n",
       "AMARAJABAT     0.085768\n",
       "DHFL          14.007242\n",
       "AJANTPHARM     0.106510\n",
       "LAXMIMACH      0.085706\n",
       "CIPLA          0.081551\n",
       "APOLLOTYRE     0.099502\n",
       "GAIL           0.108466\n",
       "EXIDEIND       0.084290\n",
       "IDFC           0.115289\n",
       "LUXIND         0.107606\n",
       "GMRINFRA       0.153571\n",
       "LALPATHLAB     0.084763\n",
       "DRREDDY        0.095617\n",
       "JUBLFOOD       0.160698\n",
       "IRCON          0.053186\n",
       "CUMMINSIND     0.095100\n",
       "Name: Volatility, dtype: float64"
      ]
     },
     "execution_count": 56,
     "metadata": {},
     "output_type": "execute_result"
    }
   ],
   "source": [
    "returns['Volatility']"
   ]
  },
  {
   "cell_type": "code",
   "execution_count": 57,
   "metadata": {},
   "outputs": [
    {
     "data": {
      "text/html": [
       "<div>\n",
       "<style scoped>\n",
       "    .dataframe tbody tr th:only-of-type {\n",
       "        vertical-align: middle;\n",
       "    }\n",
       "\n",
       "    .dataframe tbody tr th {\n",
       "        vertical-align: top;\n",
       "    }\n",
       "\n",
       "    .dataframe thead th {\n",
       "        text-align: right;\n",
       "    }\n",
       "</style>\n",
       "<table border=\"1\" class=\"dataframe\">\n",
       "  <thead>\n",
       "    <tr style=\"text-align: right;\">\n",
       "      <th></th>\n",
       "      <th>Returns</th>\n",
       "      <th>Volatility</th>\n",
       "    </tr>\n",
       "  </thead>\n",
       "  <tbody>\n",
       "    <tr>\n",
       "      <th>HDFCBANK</th>\n",
       "      <td>0.024018</td>\n",
       "      <td>0.085710</td>\n",
       "    </tr>\n",
       "    <tr>\n",
       "      <th>ASIANPAINT</th>\n",
       "      <td>0.010083</td>\n",
       "      <td>0.067157</td>\n",
       "    </tr>\n",
       "    <tr>\n",
       "      <th>EICHERMOT</th>\n",
       "      <td>-0.018160</td>\n",
       "      <td>0.096265</td>\n",
       "    </tr>\n",
       "    <tr>\n",
       "      <th>AXISBANK</th>\n",
       "      <td>0.023996</td>\n",
       "      <td>0.089182</td>\n",
       "    </tr>\n",
       "    <tr>\n",
       "      <th>ADANIPORTS</th>\n",
       "      <td>0.006225</td>\n",
       "      <td>0.099279</td>\n",
       "    </tr>\n",
       "    <tr>\n",
       "      <th>BAJFINANCE</th>\n",
       "      <td>0.046751</td>\n",
       "      <td>0.103263</td>\n",
       "    </tr>\n",
       "    <tr>\n",
       "      <th>LEMONTREE</th>\n",
       "      <td>0.003189</td>\n",
       "      <td>0.092800</td>\n",
       "    </tr>\n",
       "    <tr>\n",
       "      <th>CASTROLIND</th>\n",
       "      <td>-0.045470</td>\n",
       "      <td>0.143366</td>\n",
       "    </tr>\n",
       "    <tr>\n",
       "      <th>JKLAKSHMI</th>\n",
       "      <td>-0.017376</td>\n",
       "      <td>0.089689</td>\n",
       "    </tr>\n",
       "    <tr>\n",
       "      <th>BERGEPAINT</th>\n",
       "      <td>0.011210</td>\n",
       "      <td>0.085810</td>\n",
       "    </tr>\n",
       "    <tr>\n",
       "      <th>GUJALKALI</th>\n",
       "      <td>0.011540</td>\n",
       "      <td>0.123565</td>\n",
       "    </tr>\n",
       "    <tr>\n",
       "      <th>GODREJIND</th>\n",
       "      <td>-0.009287</td>\n",
       "      <td>0.085476</td>\n",
       "    </tr>\n",
       "    <tr>\n",
       "      <th>JETAIRWAYS</th>\n",
       "      <td>-0.049497</td>\n",
       "      <td>0.200471</td>\n",
       "    </tr>\n",
       "    <tr>\n",
       "      <th>ITDC</th>\n",
       "      <td>-0.038010</td>\n",
       "      <td>0.169290</td>\n",
       "    </tr>\n",
       "    <tr>\n",
       "      <th>AMARAJABAT</th>\n",
       "      <td>-0.017355</td>\n",
       "      <td>0.085768</td>\n",
       "    </tr>\n",
       "    <tr>\n",
       "      <th>DHFL</th>\n",
       "      <td>37.291356</td>\n",
       "      <td>14.007242</td>\n",
       "    </tr>\n",
       "    <tr>\n",
       "      <th>AJANTPHARM</th>\n",
       "      <td>-0.017894</td>\n",
       "      <td>0.106510</td>\n",
       "    </tr>\n",
       "    <tr>\n",
       "      <th>LAXMIMACH</th>\n",
       "      <td>0.012233</td>\n",
       "      <td>0.085706</td>\n",
       "    </tr>\n",
       "    <tr>\n",
       "      <th>CIPLA</th>\n",
       "      <td>0.001216</td>\n",
       "      <td>0.081551</td>\n",
       "    </tr>\n",
       "    <tr>\n",
       "      <th>APOLLOTYRE</th>\n",
       "      <td>-0.006617</td>\n",
       "      <td>0.099502</td>\n",
       "    </tr>\n",
       "    <tr>\n",
       "      <th>GAIL</th>\n",
       "      <td>-0.005408</td>\n",
       "      <td>0.108466</td>\n",
       "    </tr>\n",
       "    <tr>\n",
       "      <th>EXIDEIND</th>\n",
       "      <td>-0.005298</td>\n",
       "      <td>0.084290</td>\n",
       "    </tr>\n",
       "    <tr>\n",
       "      <th>IDFC</th>\n",
       "      <td>-0.025255</td>\n",
       "      <td>0.115289</td>\n",
       "    </tr>\n",
       "    <tr>\n",
       "      <th>LUXIND</th>\n",
       "      <td>0.026256</td>\n",
       "      <td>0.107606</td>\n",
       "    </tr>\n",
       "    <tr>\n",
       "      <th>GMRINFRA</th>\n",
       "      <td>0.004509</td>\n",
       "      <td>0.153571</td>\n",
       "    </tr>\n",
       "    <tr>\n",
       "      <th>LALPATHLAB</th>\n",
       "      <td>0.007803</td>\n",
       "      <td>0.084763</td>\n",
       "    </tr>\n",
       "    <tr>\n",
       "      <th>DRREDDY</th>\n",
       "      <td>0.007002</td>\n",
       "      <td>0.095617</td>\n",
       "    </tr>\n",
       "    <tr>\n",
       "      <th>JUBLFOOD</th>\n",
       "      <td>0.026617</td>\n",
       "      <td>0.160698</td>\n",
       "    </tr>\n",
       "    <tr>\n",
       "      <th>IRCON</th>\n",
       "      <td>-0.002481</td>\n",
       "      <td>0.053186</td>\n",
       "    </tr>\n",
       "    <tr>\n",
       "      <th>CUMMINSIND</th>\n",
       "      <td>-0.018278</td>\n",
       "      <td>0.095100</td>\n",
       "    </tr>\n",
       "  </tbody>\n",
       "</table>\n",
       "</div>"
      ],
      "text/plain": [
       "              Returns  Volatility\n",
       "HDFCBANK     0.024018    0.085710\n",
       "ASIANPAINT   0.010083    0.067157\n",
       "EICHERMOT   -0.018160    0.096265\n",
       "AXISBANK     0.023996    0.089182\n",
       "ADANIPORTS   0.006225    0.099279\n",
       "BAJFINANCE   0.046751    0.103263\n",
       "LEMONTREE    0.003189    0.092800\n",
       "CASTROLIND  -0.045470    0.143366\n",
       "JKLAKSHMI   -0.017376    0.089689\n",
       "BERGEPAINT   0.011210    0.085810\n",
       "GUJALKALI    0.011540    0.123565\n",
       "GODREJIND   -0.009287    0.085476\n",
       "JETAIRWAYS  -0.049497    0.200471\n",
       "ITDC        -0.038010    0.169290\n",
       "AMARAJABAT  -0.017355    0.085768\n",
       "DHFL        37.291356   14.007242\n",
       "AJANTPHARM  -0.017894    0.106510\n",
       "LAXMIMACH    0.012233    0.085706\n",
       "CIPLA        0.001216    0.081551\n",
       "APOLLOTYRE  -0.006617    0.099502\n",
       "GAIL        -0.005408    0.108466\n",
       "EXIDEIND    -0.005298    0.084290\n",
       "IDFC        -0.025255    0.115289\n",
       "LUXIND       0.026256    0.107606\n",
       "GMRINFRA     0.004509    0.153571\n",
       "LALPATHLAB   0.007803    0.084763\n",
       "DRREDDY      0.007002    0.095617\n",
       "JUBLFOOD     0.026617    0.160698\n",
       "IRCON       -0.002481    0.053186\n",
       "CUMMINSIND  -0.018278    0.095100"
      ]
     },
     "execution_count": 57,
     "metadata": {},
     "output_type": "execute_result"
    }
   ],
   "source": [
    "returns"
   ]
  },
  {
   "cell_type": "code",
   "execution_count": 58,
   "metadata": {
    "scrolled": true
   },
   "outputs": [
    {
     "data": {
      "text/plain": [
       "0        431.40\n",
       "1       1009.90\n",
       "2       1055.20\n",
       "3       1070.00\n",
       "4       1050.00\n",
       "5       1072.28\n",
       "6       1149.00\n",
       "7       1040.60\n",
       "8       1043.00\n",
       "9       1062.15\n",
       "10       424.45\n",
       "11      1000.00\n",
       "12      1012.31\n",
       "13      1060.00\n",
       "14      1071.42\n",
       "15      1175.00\n",
       "16      1043.61\n",
       "17      1061.03\n",
       "18       429.00\n",
       "19       996.70\n",
       "20      1012.10\n",
       "21      1057.02\n",
       "22      1069.66\n",
       "23      1175.00\n",
       "24      1044.18\n",
       "25      1042.50\n",
       "26      1057.07\n",
       "27       417.95\n",
       "28      1015.00\n",
       "29      1070.10\n",
       "         ...   \n",
       "4762     841.00\n",
       "4763     789.00\n",
       "4764     790.00\n",
       "4765     116.40\n",
       "4766     955.00\n",
       "4767     760.00\n",
       "4768    1008.75\n",
       "4769     764.96\n",
       "4770     990.00\n",
       "4771     975.12\n",
       "4772     812.05\n",
       "4773     775.00\n",
       "4774     842.39\n",
       "4775     797.90\n",
       "4776     788.00\n",
       "4777     835.00\n",
       "4778     110.95\n",
       "4779     955.00\n",
       "4780     850.00\n",
       "4781     769.00\n",
       "4782    1000.00\n",
       "4783     742.38\n",
       "4784    1229.99\n",
       "4785     975.00\n",
       "4786     810.00\n",
       "4787     754.90\n",
       "4788     838.50\n",
       "4789     800.00\n",
       "4790     721.25\n",
       "4791     820.25\n",
       "Name: DHFL, Length: 4792, dtype: float64"
      ]
     },
     "execution_count": 58,
     "metadata": {},
     "output_type": "execute_result"
    }
   ],
   "source": [
    "prices_df['DHFL']"
   ]
  },
  {
   "cell_type": "markdown",
   "metadata": {},
   "source": [
    "# QUERY 6.3\n",
    " Cluster the 30 stocks according to their mean annual Volatilities and Returns using K-means clustering. Identify the optimum number of clusters using the Elbow curve method "
   ]
  },
  {
   "cell_type": "code",
   "execution_count": 59,
   "metadata": {},
   "outputs": [
    {
     "data": {
      "text/plain": [
       "Text(0.5,1,'Elbow curve')"
      ]
     },
     "execution_count": 59,
     "metadata": {},
     "output_type": "execute_result"
    },
    {
     "data": {
      "image/png": "[encoded data removed]",
      "text/plain": [
       "<Figure size 1080x360 with 1 Axes>"
      ]
     },
     "metadata": {},
     "output_type": "display_data"
    }
   ],
   "source": [
    "data = np.asarray([np.asarray(returns['Returns']),np.asarray(returns['Volatility'])]).T\n",
    "X = data\n",
    "distorsions = []\n",
    "for k in range(2, 20):\n",
    "    k_means = KMeans(n_clusters=k)\n",
    "    k_means.fit(X)\n",
    "    distorsions.append(k_means.inertia_)\n",
    "fig = plt.figure(figsize=(15, 5))\n",
    "plt.plot(range(2, 20), distorsions)\n",
    "plt.grid(True)\n",
    "plt.title('Elbow curve')"
   ]
  },
  {
   "cell_type": "code",
   "execution_count": 60,
   "metadata": {},
   "outputs": [
    {
     "data": {
      "text/plain": [
       "KMeans(algorithm='auto', copy_x=True, init='k-means++', max_iter=300,\n",
       "    n_clusters=3, n_init=10, n_jobs=1, precompute_distances='auto',\n",
       "    random_state=None, tol=0.0001, verbose=0)"
      ]
     },
     "execution_count": 60,
     "metadata": {},
     "output_type": "execute_result"
    }
   ],
   "source": [
    "kmeans = KMeans(n_clusters=3)\n",
    "kmeans.fit(data)"
   ]
  },
  {
   "cell_type": "code",
   "execution_count": 61,
   "metadata": {},
   "outputs": [],
   "source": [
    "labels = kmeans.predict(data)\n",
    "centroids = kmeans.cluster_centers_"
   ]
  },
  {
   "cell_type": "code",
   "execution_count": 62,
   "metadata": {},
   "outputs": [],
   "source": [
    "returns.drop(\"DHFL\", inplace =True)\n",
    "data = np.asarray([np.asarray(returns['Returns']),np.asarray(returns['Volatility'])]).T\n",
    "kmeans = KMeans(n_clusters=3)\n",
    "kmeans.fit(data)\n",
    "labels = kmeans.predict(data)\n",
    "centroids = kmeans.cluster_centers_"
   ]
  },
  {
   "cell_type": "code",
   "execution_count": 63,
   "metadata": {},
   "outputs": [
    {
     "data": {
      "image/png": "[encoded data removed]",
      "text/plain": [
       "<Figure size 1080x576 with 1 Axes>"
      ]
     },
     "metadata": {},
     "output_type": "display_data"
    }
   ],
   "source": [
    "fig = plt.figure(figsize=(15, 8))\n",
    "\n",
    "plt.scatter(data[:,0],data[:,1], c = kmeans.labels_, cmap =\"viridis\")\n",
    "plt.show()"
   ]
  },
  {
   "cell_type": "code",
   "execution_count": 67,
   "metadata": {},
   "outputs": [
    {
     "data": {
      "image/png": "[encoded data removed]",
      "text/plain": [
       "<Figure size 1440x720 with 1 Axes>"
      ]
     },
     "metadata": {},
     "output_type": "display_data"
    }
   ],
   "source": [
    "\n",
    "km = KMeans(n_clusters=5, max_iter=100)\n",
    "km.fit(data)\n",
    "centroids = km.cluster_centers_\n",
    "fig, ax = plt.subplots(figsize=(20, 10))\n",
    "plt.scatter(data[km.labels_ == 0, 0], data[km.labels_ == 0, 1],\n",
    "            c='green', label='cluster 1')\n",
    "plt.scatter(data[km.labels_ == 1, 0], data[km.labels_ == 1, 1],\n",
    "            c='blue', label='cluster 2')\n",
    "plt.scatter(data[km.labels_ == 2, 0], data[km.labels_ == 2, 1],\n",
    "            c='yellow', label='cluster 3')\n",
    "plt.scatter(data[km.labels_ == 3, 0], data[km.labels_== 3, 1],\n",
    "            c='purple', label='cluster 4')\n",
    "plt.scatter(data[km.labels_ == 4, 0], data[km.labels_ == 4, 1],\n",
    "            c='red', label='cluster 5')\n",
    "plt.legend()\n",
    "plt.scatter(km.cluster_centers_[:,0] ,km.cluster_centers_[:,1], color='black',marker='*',label='centroid')\n",
    "xs=data[:,0]\n",
    "ys=data[:,1]\n",
    "zs=np.asarray(returns.index)\n",
    "labeling=returns.index\n",
    "for x,y,z in zip(xs,ys,zs):\n",
    "    plt.annotate(z,(x,y),ha='center')\n",
    "plt.show()"
   ]
  },
  {
   "cell_type": "code",
   "execution_count": 65,
   "metadata": {},
   "outputs": [
    {
     "name": "stdout",
     "output_type": "stream",
     "text": [
      "('HDFCBANK', 1)\n",
      "('ASIANPAINT', 1)\n",
      "('EICHERMOT', 3)\n",
      "('AXISBANK', 1)\n",
      "('ADANIPORTS', 1)\n",
      "('BAJFINANCE', 2)\n",
      "('LEMONTREE', 1)\n",
      "('CASTROLIND', 0)\n",
      "('JKLAKSHMI', 3)\n",
      "('BERGEPAINT', 1)\n",
      "('GUJALKALI', 2)\n",
      "('GODREJIND', 3)\n",
      "('JETAIRWAYS', 0)\n",
      "('ITDC', 0)\n",
      "('AMARAJABAT', 3)\n",
      "('AJANTPHARM', 3)\n",
      "('LAXMIMACH', 1)\n",
      "('CIPLA', 1)\n",
      "('APOLLOTYRE', 3)\n",
      "('GAIL', 3)\n",
      "('EXIDEIND', 1)\n",
      "('IDFC', 3)\n",
      "('LUXIND', 2)\n",
      "('GMRINFRA', 4)\n",
      "('LALPATHLAB', 1)\n",
      "('DRREDDY', 1)\n",
      "('JUBLFOOD', 4)\n",
      "('IRCON', 1)\n",
      "('CUMMINSIND', 3)\n"
     ]
    }
   ],
   "source": [
    "from scipy.cluster.vq import vq\n",
    "idx,_ = vq(data,centroids)\n",
    "\n",
    "details = [(name,cluster) for name, cluster in zip(returns.index,idx)]\n",
    "for detail in details:\n",
    "    print(detail)"
   ]
  }
 ],
 "metadata": {
  "kernelspec": {
   "display_name": "Python 3",
   "language": "python",
   "name": "python3"
  },
  "language_info": {
   "codemirror_mode": {
    "name": "ipython",
    "version": 3
   },
   "file_extension": ".py",
   "mimetype": "text/x-python",
   "name": "python",
   "nbconvert_exporter": "python",
   "pygments_lexer": "ipython3",
   "version": "3.7.3"
  }
 },
 "nbformat": 4,
 "nbformat_minor": 2
}
